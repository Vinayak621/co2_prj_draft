{
 "cells": [
  {
   "cell_type": "code",
   "execution_count": 250,
   "id": "a4fcc09e",
   "metadata": {},
   "outputs": [],
   "source": [
    "import pandas as pd\n",
    "import numpy as np\n",
    "import numpy.random as nr\n",
    "import sys\n",
    "import seaborn as sns\n",
    "import matplotlib.pyplot as plt\n",
    "from sklearn.model_selection import  train_test_split\n",
    "\n",
    "\n",
    "# load the cleaned dataset\n",
    "data = pd.read_csv(r'data_cleaned.csv')"
   ]
  },
  {
   "cell_type": "code",
   "execution_count": 251,
   "id": "5f00b941",
   "metadata": {},
   "outputs": [],
   "source": [
    "data1=data.copy()"
   ]
  },
  {
   "cell_type": "code",
   "execution_count": 252,
   "id": "9679df08",
   "metadata": {},
   "outputs": [
    {
     "name": "stdout",
     "output_type": "stream",
     "text": [
      "Shape of the dataset after removing the ARE outliers:\n"
     ]
    },
    {
     "data": {
      "text/plain": [
       "(1686, 18)"
      ]
     },
     "execution_count": 252,
     "metadata": {},
     "output_type": "execute_result"
    }
   ],
   "source": [
    "data1 = data1[data1['country']!='ARE']\n",
    "\n",
    "# print shape after removing the outliers\n",
    "print(\"Shape of the dataset after removing the ARE outliers:\")\n",
    "data1.shape"
   ]
  },
  {
   "cell_type": "code",
   "execution_count": 253,
   "id": "26a7af00",
   "metadata": {},
   "outputs": [],
   "source": [
    "# data1['gdp'] = data1['gdp'].astype(float).apply(lambda x: '{:.0f}'.format(x))\n",
    "# data1['urb_pop'] = data1['urb_pop'].astype(float).apply(lambda x: '{:.0f}'.format(x))"
   ]
  },
  {
   "cell_type": "code",
   "execution_count": 254,
   "id": "0d751512",
   "metadata": {},
   "outputs": [
    {
     "name": "stdout",
     "output_type": "stream",
     "text": [
      "<class 'pandas.core.frame.DataFrame'>\n",
      "Int64Index: 1686 entries, 0 to 1699\n",
      "Data columns (total 18 columns):\n",
      " #   Column               Non-Null Count  Dtype  \n",
      "---  ------               --------------  -----  \n",
      " 0   country              1686 non-null   object \n",
      " 1   year                 1686 non-null   int64  \n",
      " 2   cereal_yield         1686 non-null   float64\n",
      " 3   fdi_perc_gdp         1686 non-null   float64\n",
      " 4   en_per_gdp           1686 non-null   float64\n",
      " 5   en_per_cap           1686 non-null   float64\n",
      " 6   co2_ttl              1686 non-null   float64\n",
      " 7   co2_per_cap          1686 non-null   float64\n",
      " 8   co2_per_gdp          1686 non-null   float64\n",
      " 9   pop_urb_aggl_perc    1686 non-null   float64\n",
      " 10  prot_area_perc       1686 non-null   float64\n",
      " 11  gdp                  1686 non-null   float64\n",
      " 12  gni_per_cap          1686 non-null   float64\n",
      " 13  under_5_mort_rate    1686 non-null   float64\n",
      " 14  pop_growth_perc      1686 non-null   float64\n",
      " 15  pop                  1686 non-null   float64\n",
      " 16  urb_pop_growth_perc  1686 non-null   float64\n",
      " 17  urb_pop              1686 non-null   float64\n",
      "dtypes: float64(16), int64(1), object(1)\n",
      "memory usage: 250.3+ KB\n"
     ]
    }
   ],
   "source": [
    "data1.info()\n"
   ]
  },
  {
   "cell_type": "code",
   "execution_count": 255,
   "id": "18a11158",
   "metadata": {},
   "outputs": [],
   "source": [
    "data1=data1.drop(['country','year'],axis=1)"
   ]
  },
  {
   "cell_type": "code",
   "execution_count": 256,
   "id": "f0f5a891",
   "metadata": {},
   "outputs": [],
   "source": [
    "data1['classify'] = np.where((data1['cereal_yield'] > 550) & (data1['fdi_perc_gdp'] > 2.0) & (data1['en_per_gdp'] > 0.25) & (data1['en_per_cap'] > 250), 'red', 'green')\n"
   ]
  },
  {
   "cell_type": "code",
   "execution_count": 257,
   "id": "88300db1",
   "metadata": {},
   "outputs": [
    {
     "data": {
      "text/html": [
       "<div>\n",
       "<style scoped>\n",
       "    .dataframe tbody tr th:only-of-type {\n",
       "        vertical-align: middle;\n",
       "    }\n",
       "\n",
       "    .dataframe tbody tr th {\n",
       "        vertical-align: top;\n",
       "    }\n",
       "\n",
       "    .dataframe thead th {\n",
       "        text-align: right;\n",
       "    }\n",
       "</style>\n",
       "<table border=\"1\" class=\"dataframe\">\n",
       "  <thead>\n",
       "    <tr style=\"text-align: right;\">\n",
       "      <th></th>\n",
       "      <th>cereal_yield</th>\n",
       "      <th>fdi_perc_gdp</th>\n",
       "      <th>en_per_gdp</th>\n",
       "      <th>en_per_cap</th>\n",
       "      <th>co2_ttl</th>\n",
       "      <th>co2_per_cap</th>\n",
       "      <th>co2_per_gdp</th>\n",
       "      <th>pop_urb_aggl_perc</th>\n",
       "      <th>prot_area_perc</th>\n",
       "      <th>gdp</th>\n",
       "      <th>gni_per_cap</th>\n",
       "      <th>under_5_mort_rate</th>\n",
       "      <th>pop_growth_perc</th>\n",
       "      <th>pop</th>\n",
       "      <th>urb_pop_growth_perc</th>\n",
       "      <th>urb_pop</th>\n",
       "      <th>classify</th>\n",
       "    </tr>\n",
       "  </thead>\n",
       "  <tbody>\n",
       "    <tr>\n",
       "      <th>0</th>\n",
       "      <td>417.4</td>\n",
       "      <td>5.449515</td>\n",
       "      <td>179.271884</td>\n",
       "      <td>565.451027</td>\n",
       "      <td>4367.397</td>\n",
       "      <td>0.409949</td>\n",
       "      <td>129.971142</td>\n",
       "      <td>15.290728</td>\n",
       "      <td>12.399822</td>\n",
       "      <td>1.219375e+10</td>\n",
       "      <td>820.0</td>\n",
       "      <td>239.1</td>\n",
       "      <td>3.034866</td>\n",
       "      <td>10653515.0</td>\n",
       "      <td>6.687032</td>\n",
       "      <td>4.099473e+06</td>\n",
       "      <td>green</td>\n",
       "    </tr>\n",
       "    <tr>\n",
       "      <th>2</th>\n",
       "      <td>2666.1</td>\n",
       "      <td>1.285579</td>\n",
       "      <td>173.122857</td>\n",
       "      <td>1434.960601</td>\n",
       "      <td>117021.304</td>\n",
       "      <td>3.536073</td>\n",
       "      <td>426.614517</td>\n",
       "      <td>39.119646</td>\n",
       "      <td>4.772468</td>\n",
       "      <td>1.897200e+11</td>\n",
       "      <td>3960.0</td>\n",
       "      <td>25.8</td>\n",
       "      <td>1.372593</td>\n",
       "      <td>33093579.0</td>\n",
       "      <td>1.762636</td>\n",
       "      <td>2.890393e+07</td>\n",
       "      <td>green</td>\n",
       "    </tr>\n",
       "    <tr>\n",
       "      <th>3</th>\n",
       "      <td>1603.3</td>\n",
       "      <td>1.306912</td>\n",
       "      <td>208.686644</td>\n",
       "      <td>4926.727783</td>\n",
       "      <td>281530.258</td>\n",
       "      <td>16.288490</td>\n",
       "      <td>689.948873</td>\n",
       "      <td>60.356798</td>\n",
       "      <td>7.915273</td>\n",
       "      <td>3.299655e+11</td>\n",
       "      <td>18380.0</td>\n",
       "      <td>8.6</td>\n",
       "      <td>1.274577</td>\n",
       "      <td>17284000.0</td>\n",
       "      <td>1.438378</td>\n",
       "      <td>1.478473e+07</td>\n",
       "      <td>green</td>\n",
       "    </tr>\n",
       "    <tr>\n",
       "      <th>4</th>\n",
       "      <td>5463.0</td>\n",
       "      <td>0.209142</td>\n",
       "      <td>128.939160</td>\n",
       "      <td>3381.073790</td>\n",
       "      <td>65888.656</td>\n",
       "      <td>8.448456</td>\n",
       "      <td>322.186648</td>\n",
       "      <td>19.746121</td>\n",
       "      <td>20.991143</td>\n",
       "      <td>1.721664e+11</td>\n",
       "      <td>21200.0</td>\n",
       "      <td>8.9</td>\n",
       "      <td>1.134999</td>\n",
       "      <td>7798899.0</td>\n",
       "      <td>1.134999</td>\n",
       "      <td>5.131676e+06</td>\n",
       "      <td>green</td>\n",
       "    </tr>\n",
       "    <tr>\n",
       "      <th>5</th>\n",
       "      <td>2585.7</td>\n",
       "      <td>0.004491</td>\n",
       "      <td>154.496130</td>\n",
       "      <td>116.511476</td>\n",
       "      <td>15940.449</td>\n",
       "      <td>0.147913</td>\n",
       "      <td>196.135682</td>\n",
       "      <td>9.443704</td>\n",
       "      <td>1.537922</td>\n",
       "      <td>3.095744e+10</td>\n",
       "      <td>300.0</td>\n",
       "      <td>137.9</td>\n",
       "      <td>2.359199</td>\n",
       "      <td>107768749.0</td>\n",
       "      <td>4.260207</td>\n",
       "      <td>2.174773e+07</td>\n",
       "      <td>green</td>\n",
       "    </tr>\n",
       "  </tbody>\n",
       "</table>\n",
       "</div>"
      ],
      "text/plain": [
       "   cereal_yield  fdi_perc_gdp  en_per_gdp   en_per_cap     co2_ttl  \\\n",
       "0         417.4      5.449515  179.271884   565.451027    4367.397   \n",
       "2        2666.1      1.285579  173.122857  1434.960601  117021.304   \n",
       "3        1603.3      1.306912  208.686644  4926.727783  281530.258   \n",
       "4        5463.0      0.209142  128.939160  3381.073790   65888.656   \n",
       "5        2585.7      0.004491  154.496130   116.511476   15940.449   \n",
       "\n",
       "   co2_per_cap  co2_per_gdp  pop_urb_aggl_perc  prot_area_perc           gdp  \\\n",
       "0     0.409949   129.971142          15.290728       12.399822  1.219375e+10   \n",
       "2     3.536073   426.614517          39.119646        4.772468  1.897200e+11   \n",
       "3    16.288490   689.948873          60.356798        7.915273  3.299655e+11   \n",
       "4     8.448456   322.186648          19.746121       20.991143  1.721664e+11   \n",
       "5     0.147913   196.135682           9.443704        1.537922  3.095744e+10   \n",
       "\n",
       "   gni_per_cap  under_5_mort_rate  pop_growth_perc          pop  \\\n",
       "0        820.0              239.1         3.034866   10653515.0   \n",
       "2       3960.0               25.8         1.372593   33093579.0   \n",
       "3      18380.0                8.6         1.274577   17284000.0   \n",
       "4      21200.0                8.9         1.134999    7798899.0   \n",
       "5        300.0              137.9         2.359199  107768749.0   \n",
       "\n",
       "   urb_pop_growth_perc       urb_pop classify  \n",
       "0             6.687032  4.099473e+06    green  \n",
       "2             1.762636  2.890393e+07    green  \n",
       "3             1.438378  1.478473e+07    green  \n",
       "4             1.134999  5.131676e+06    green  \n",
       "5             4.260207  2.174773e+07    green  "
      ]
     },
     "execution_count": 257,
     "metadata": {},
     "output_type": "execute_result"
    }
   ],
   "source": [
    "data1.head()"
   ]
  },
  {
   "cell_type": "code",
   "execution_count": 258,
   "id": "d2a11e23",
   "metadata": {},
   "outputs": [],
   "source": [
    "\n",
    "\n",
    "\n",
    "# corr_matrix = data1.corr().abs()\n",
    "\n",
    "# # Find features with high correlation\n",
    "# high_corr_features = set()\n",
    "# for i in range(len(corr_matrix.columns)):\n",
    "#     for j in range(i):\n",
    "#         if corr_matrix.iloc[i, j] > 0.8:\n",
    "#             colname = corr_matrix.columns[i]\n",
    "#             high_corr_features.add(colname)\n",
    "\n",
    "\n",
    "# print(high_corr_features)\n"
   ]
  },
  {
   "cell_type": "code",
   "execution_count": 259,
   "id": "d5100a48",
   "metadata": {},
   "outputs": [],
   "source": [
    "\n",
    "corr_matrix = data1.corr().abs()\n",
    "\n",
    "\n",
    "threshold = 0.8\n",
    "\n",
    "\n",
    "mask = corr_matrix.where(np.triu(np.ones(corr_matrix.shape), k=1).astype(bool))\n",
    "high_corr_features = [col for col in mask.columns if any(mask[col] > threshold)]\n",
    "\n",
    "\n",
    "\n",
    "data2 = data1.drop(high_corr_features, axis=1)\n"
   ]
  },
  {
   "cell_type": "code",
   "execution_count": 260,
   "id": "0b96a603",
   "metadata": {},
   "outputs": [
    {
     "name": "stdout",
     "output_type": "stream",
     "text": [
      "The highly correlated features are: ['co2_per_cap', 'gdp', 'pop', 'urb_pop_growth_perc', 'urb_pop']\n"
     ]
    }
   ],
   "source": [
    "print(\"The highly correlated features are:\",high_corr_features)"
   ]
  },
  {
   "cell_type": "code",
   "execution_count": 261,
   "id": "84b549fe",
   "metadata": {},
   "outputs": [
    {
     "data": {
      "text/plain": [
       "green    861\n",
       "red      825\n",
       "Name: classify, dtype: int64"
      ]
     },
     "execution_count": 261,
     "metadata": {},
     "output_type": "execute_result"
    }
   ],
   "source": [
    "data1['classify'].value_counts()"
   ]
  },
  {
   "cell_type": "code",
   "execution_count": 262,
   "id": "1845f686",
   "metadata": {},
   "outputs": [],
   "source": [
    "feature_cols = ['cereal_yield','fdi_perc_gdp','gni_per_cap', 'en_per_cap', 'pop_urb_aggl_perc',\n",
    "                    'prot_area_perc', 'gdp',  'pop_growth_perc', 'urb_pop_growth_perc','co2_ttl']\n",
    "label_col = ['classify']"
   ]
  },
  {
   "cell_type": "code",
   "execution_count": 263,
   "id": "161739c2",
   "metadata": {},
   "outputs": [
    {
     "ename": "ValueError",
     "evalue": "Found input variables with inconsistent numbers of samples: [1686, 1]",
     "output_type": "error",
     "traceback": [
      "\u001b[1;31m---------------------------------------------------------------------------\u001b[0m",
      "\u001b[1;31mValueError\u001b[0m                                Traceback (most recent call last)",
      "\u001b[1;32m~\\AppData\\Local\\Temp\\ipykernel_6428\\563606052.py\u001b[0m in \u001b[0;36m<module>\u001b[1;34m\u001b[0m\n\u001b[0;32m      1\u001b[0m \u001b[1;32mfrom\u001b[0m \u001b[0msklearn\u001b[0m\u001b[1;33m.\u001b[0m\u001b[0mmodel_selection\u001b[0m \u001b[1;32mimport\u001b[0m \u001b[0mtrain_test_split\u001b[0m\u001b[1;33m\u001b[0m\u001b[1;33m\u001b[0m\u001b[0m\n\u001b[1;32m----> 2\u001b[1;33m \u001b[0mX_train\u001b[0m\u001b[1;33m,\u001b[0m \u001b[0mX_test\u001b[0m\u001b[1;33m,\u001b[0m \u001b[0my_train\u001b[0m\u001b[1;33m,\u001b[0m \u001b[0my_test\u001b[0m \u001b[1;33m=\u001b[0m \u001b[0mtrain_test_split\u001b[0m\u001b[1;33m(\u001b[0m\u001b[0mX\u001b[0m\u001b[1;33m,\u001b[0m \u001b[0my\u001b[0m\u001b[1;33m,\u001b[0m \u001b[0mtest_size\u001b[0m \u001b[1;33m=\u001b[0m \u001b[1;36m0.25\u001b[0m\u001b[1;33m,\u001b[0m \u001b[0mrandom_state\u001b[0m \u001b[1;33m=\u001b[0m \u001b[1;36m0\u001b[0m\u001b[1;33m)\u001b[0m\u001b[1;33m\u001b[0m\u001b[1;33m\u001b[0m\u001b[0m\n\u001b[0m",
      "\u001b[1;32m~\\anaconda3\\lib\\site-packages\\sklearn\\model_selection\\_split.py\u001b[0m in \u001b[0;36mtrain_test_split\u001b[1;34m(test_size, train_size, random_state, shuffle, stratify, *arrays)\u001b[0m\n\u001b[0;32m   2415\u001b[0m         \u001b[1;32mraise\u001b[0m \u001b[0mValueError\u001b[0m\u001b[1;33m(\u001b[0m\u001b[1;34m\"At least one array required as input\"\u001b[0m\u001b[1;33m)\u001b[0m\u001b[1;33m\u001b[0m\u001b[1;33m\u001b[0m\u001b[0m\n\u001b[0;32m   2416\u001b[0m \u001b[1;33m\u001b[0m\u001b[0m\n\u001b[1;32m-> 2417\u001b[1;33m     \u001b[0marrays\u001b[0m \u001b[1;33m=\u001b[0m \u001b[0mindexable\u001b[0m\u001b[1;33m(\u001b[0m\u001b[1;33m*\u001b[0m\u001b[0marrays\u001b[0m\u001b[1;33m)\u001b[0m\u001b[1;33m\u001b[0m\u001b[1;33m\u001b[0m\u001b[0m\n\u001b[0m\u001b[0;32m   2418\u001b[0m \u001b[1;33m\u001b[0m\u001b[0m\n\u001b[0;32m   2419\u001b[0m     \u001b[0mn_samples\u001b[0m \u001b[1;33m=\u001b[0m \u001b[0m_num_samples\u001b[0m\u001b[1;33m(\u001b[0m\u001b[0marrays\u001b[0m\u001b[1;33m[\u001b[0m\u001b[1;36m0\u001b[0m\u001b[1;33m]\u001b[0m\u001b[1;33m)\u001b[0m\u001b[1;33m\u001b[0m\u001b[1;33m\u001b[0m\u001b[0m\n",
      "\u001b[1;32m~\\anaconda3\\lib\\site-packages\\sklearn\\utils\\validation.py\u001b[0m in \u001b[0;36mindexable\u001b[1;34m(*iterables)\u001b[0m\n\u001b[0;32m    376\u001b[0m \u001b[1;33m\u001b[0m\u001b[0m\n\u001b[0;32m    377\u001b[0m     \u001b[0mresult\u001b[0m \u001b[1;33m=\u001b[0m \u001b[1;33m[\u001b[0m\u001b[0m_make_indexable\u001b[0m\u001b[1;33m(\u001b[0m\u001b[0mX\u001b[0m\u001b[1;33m)\u001b[0m \u001b[1;32mfor\u001b[0m \u001b[0mX\u001b[0m \u001b[1;32min\u001b[0m \u001b[0miterables\u001b[0m\u001b[1;33m]\u001b[0m\u001b[1;33m\u001b[0m\u001b[1;33m\u001b[0m\u001b[0m\n\u001b[1;32m--> 378\u001b[1;33m     \u001b[0mcheck_consistent_length\u001b[0m\u001b[1;33m(\u001b[0m\u001b[1;33m*\u001b[0m\u001b[0mresult\u001b[0m\u001b[1;33m)\u001b[0m\u001b[1;33m\u001b[0m\u001b[1;33m\u001b[0m\u001b[0m\n\u001b[0m\u001b[0;32m    379\u001b[0m     \u001b[1;32mreturn\u001b[0m \u001b[0mresult\u001b[0m\u001b[1;33m\u001b[0m\u001b[1;33m\u001b[0m\u001b[0m\n\u001b[0;32m    380\u001b[0m \u001b[1;33m\u001b[0m\u001b[0m\n",
      "\u001b[1;32m~\\anaconda3\\lib\\site-packages\\sklearn\\utils\\validation.py\u001b[0m in \u001b[0;36mcheck_consistent_length\u001b[1;34m(*arrays)\u001b[0m\n\u001b[0;32m    330\u001b[0m     \u001b[0muniques\u001b[0m \u001b[1;33m=\u001b[0m \u001b[0mnp\u001b[0m\u001b[1;33m.\u001b[0m\u001b[0munique\u001b[0m\u001b[1;33m(\u001b[0m\u001b[0mlengths\u001b[0m\u001b[1;33m)\u001b[0m\u001b[1;33m\u001b[0m\u001b[1;33m\u001b[0m\u001b[0m\n\u001b[0;32m    331\u001b[0m     \u001b[1;32mif\u001b[0m \u001b[0mlen\u001b[0m\u001b[1;33m(\u001b[0m\u001b[0muniques\u001b[0m\u001b[1;33m)\u001b[0m \u001b[1;33m>\u001b[0m \u001b[1;36m1\u001b[0m\u001b[1;33m:\u001b[0m\u001b[1;33m\u001b[0m\u001b[1;33m\u001b[0m\u001b[0m\n\u001b[1;32m--> 332\u001b[1;33m         raise ValueError(\n\u001b[0m\u001b[0;32m    333\u001b[0m             \u001b[1;34m\"Found input variables with inconsistent numbers of samples: %r\"\u001b[0m\u001b[1;33m\u001b[0m\u001b[1;33m\u001b[0m\u001b[0m\n\u001b[0;32m    334\u001b[0m             \u001b[1;33m%\u001b[0m \u001b[1;33m[\u001b[0m\u001b[0mint\u001b[0m\u001b[1;33m(\u001b[0m\u001b[0ml\u001b[0m\u001b[1;33m)\u001b[0m \u001b[1;32mfor\u001b[0m \u001b[0ml\u001b[0m \u001b[1;32min\u001b[0m \u001b[0mlengths\u001b[0m\u001b[1;33m]\u001b[0m\u001b[1;33m\u001b[0m\u001b[1;33m\u001b[0m\u001b[0m\n",
      "\u001b[1;31mValueError\u001b[0m: Found input variables with inconsistent numbers of samples: [1686, 1]"
     ]
    }
   ],
   "source": [
    "from sklearn.model_selection import train_test_split\n",
    "X_train, X_test, y_train, y_test = train_test_split(X, y, test_size = 0.25, random_state = 0)"
   ]
  },
  {
   "cell_type": "code",
   "execution_count": 71,
   "id": "5a2df252",
   "metadata": {},
   "outputs": [],
   "source": [
    "from sklearn.preprocessing import StandardScaler\n",
    "sc = StandardScaler()\n",
    "X_train = sc.fit_transform(X_train)\n",
    "X_test = sc.transform(X_test)"
   ]
  },
  {
   "cell_type": "code",
   "execution_count": 72,
   "id": "ef440641",
   "metadata": {},
   "outputs": [
    {
     "data": {
      "text/plain": [
       "SVC(kernel='linear', random_state=0)"
      ]
     },
     "execution_count": 72,
     "metadata": {},
     "output_type": "execute_result"
    }
   ],
   "source": [
    "from sklearn.svm import SVC\n",
    "classif = SVC(kernel = 'linear', random_state = 0)\n",
    "classif.fit(X_train, y_train)"
   ]
  },
  {
   "cell_type": "code",
   "execution_count": 73,
   "id": "dd827690",
   "metadata": {},
   "outputs": [],
   "source": [
    "y_pred = classif.predict(X_test)\n"
   ]
  },
  {
   "cell_type": "code",
   "execution_count": 74,
   "id": "00374743",
   "metadata": {},
   "outputs": [
    {
     "name": "stdout",
     "output_type": "stream",
     "text": [
      "[[278  13]\n",
      " [ 71  60]]\n"
     ]
    },
    {
     "data": {
      "text/plain": [
       "0.8009478672985783"
      ]
     },
     "execution_count": 74,
     "metadata": {},
     "output_type": "execute_result"
    }
   ],
   "source": [
    "from sklearn.metrics import confusion_matrix, accuracy_score\n",
    "cm = confusion_matrix(y_test, y_pred)\n",
    "print(cm)\n",
    "accuracy_score(y_test, y_pred)"
   ]
  },
  {
   "cell_type": "code",
   "execution_count": null,
   "id": "6d94e70f",
   "metadata": {},
   "outputs": [],
   "source": [
    "x1=classif.predict([])"
   ]
  },
  {
   "cell_type": "markdown",
   "id": "911fbe6c",
   "metadata": {},
   "source": [
    "# Everything about data2"
   ]
  },
  {
   "cell_type": "code",
   "execution_count": 16,
   "id": "bf35ebb1",
   "metadata": {},
   "outputs": [
    {
     "data": {
      "text/plain": [
       "['cereal_yield',\n",
       " 'fdi_perc_gdp',\n",
       " 'en_per_gdp',\n",
       " 'en_per_cap',\n",
       " 'co2_ttl',\n",
       " 'co2_per_gdp',\n",
       " 'pop_urb_aggl_perc',\n",
       " 'prot_area_perc',\n",
       " 'gni_per_cap',\n",
       " 'under_5_mort_rate',\n",
       " 'pop_growth_perc',\n",
       " 'classify']"
      ]
     },
     "execution_count": 16,
     "metadata": {},
     "output_type": "execute_result"
    }
   ],
   "source": [
    "(data2.columns.to_list())"
   ]
  },
  {
   "cell_type": "code",
   "execution_count": 26,
   "id": "c94b3c91",
   "metadata": {},
   "outputs": [],
   "source": [
    "temp=data2.drop(['classify'],axis=1)"
   ]
  },
  {
   "cell_type": "code",
   "execution_count": 29,
   "id": "d26cb065",
   "metadata": {},
   "outputs": [
    {
     "data": {
      "text/html": [
       "<div>\n",
       "<style scoped>\n",
       "    .dataframe tbody tr th:only-of-type {\n",
       "        vertical-align: middle;\n",
       "    }\n",
       "\n",
       "    .dataframe tbody tr th {\n",
       "        vertical-align: top;\n",
       "    }\n",
       "\n",
       "    .dataframe thead th {\n",
       "        text-align: right;\n",
       "    }\n",
       "</style>\n",
       "<table border=\"1\" class=\"dataframe\">\n",
       "  <thead>\n",
       "    <tr style=\"text-align: right;\">\n",
       "      <th></th>\n",
       "      <th>cereal_yield</th>\n",
       "      <th>fdi_perc_gdp</th>\n",
       "      <th>en_per_gdp</th>\n",
       "      <th>en_per_cap</th>\n",
       "      <th>co2_ttl</th>\n",
       "      <th>co2_per_gdp</th>\n",
       "      <th>pop_urb_aggl_perc</th>\n",
       "      <th>prot_area_perc</th>\n",
       "      <th>gni_per_cap</th>\n",
       "      <th>under_5_mort_rate</th>\n",
       "      <th>pop_growth_perc</th>\n",
       "    </tr>\n",
       "  </thead>\n",
       "  <tbody>\n",
       "    <tr>\n",
       "      <th>count</th>\n",
       "      <td>1686.000000</td>\n",
       "      <td>1686.000000</td>\n",
       "      <td>1686.000000</td>\n",
       "      <td>1686.000000</td>\n",
       "      <td>1.686000e+03</td>\n",
       "      <td>1686.000000</td>\n",
       "      <td>1686.000000</td>\n",
       "      <td>1686.000000</td>\n",
       "      <td>1686.000000</td>\n",
       "      <td>1686.000000</td>\n",
       "      <td>1686.000000</td>\n",
       "    </tr>\n",
       "    <tr>\n",
       "      <th>mean</th>\n",
       "      <td>3012.242223</td>\n",
       "      <td>2.962712</td>\n",
       "      <td>249.868360</td>\n",
       "      <td>1888.035242</td>\n",
       "      <td>9.868890e+05</td>\n",
       "      <td>481.368038</td>\n",
       "      <td>21.417306</td>\n",
       "      <td>12.288378</td>\n",
       "      <td>7789.250729</td>\n",
       "      <td>52.282221</td>\n",
       "      <td>1.421588</td>\n",
       "    </tr>\n",
       "    <tr>\n",
       "      <th>std</th>\n",
       "      <td>1795.302456</td>\n",
       "      <td>3.955505</td>\n",
       "      <td>186.963581</td>\n",
       "      <td>1753.121932</td>\n",
       "      <td>3.248056e+06</td>\n",
       "      <td>393.531523</td>\n",
       "      <td>12.134195</td>\n",
       "      <td>9.102084</td>\n",
       "      <td>11575.491209</td>\n",
       "      <td>51.430521</td>\n",
       "      <td>1.082635</td>\n",
       "    </tr>\n",
       "    <tr>\n",
       "      <th>min</th>\n",
       "      <td>175.700000</td>\n",
       "      <td>-15.027675</td>\n",
       "      <td>66.335372</td>\n",
       "      <td>116.511476</td>\n",
       "      <td>7.077310e+02</td>\n",
       "      <td>45.552592</td>\n",
       "      <td>3.526316</td>\n",
       "      <td>0.000000</td>\n",
       "      <td>80.000000</td>\n",
       "      <td>3.200000</td>\n",
       "      <td>-2.397174</td>\n",
       "    </tr>\n",
       "    <tr>\n",
       "      <th>25%</th>\n",
       "      <td>1682.654912</td>\n",
       "      <td>0.844214</td>\n",
       "      <td>136.103560</td>\n",
       "      <td>541.279336</td>\n",
       "      <td>1.439114e+04</td>\n",
       "      <td>255.079674</td>\n",
       "      <td>12.366611</td>\n",
       "      <td>5.919456</td>\n",
       "      <td>772.500000</td>\n",
       "      <td>9.825000</td>\n",
       "      <td>0.619445</td>\n",
       "    </tr>\n",
       "    <tr>\n",
       "      <th>50%</th>\n",
       "      <td>2585.600000</td>\n",
       "      <td>2.000702</td>\n",
       "      <td>196.899449</td>\n",
       "      <td>1079.441201</td>\n",
       "      <td>7.728386e+04</td>\n",
       "      <td>365.510906</td>\n",
       "      <td>18.440354</td>\n",
       "      <td>10.293806</td>\n",
       "      <td>2105.000000</td>\n",
       "      <td>32.700000</td>\n",
       "      <td>1.505762</td>\n",
       "    </tr>\n",
       "    <tr>\n",
       "      <th>75%</th>\n",
       "      <td>3930.700000</td>\n",
       "      <td>3.704785</td>\n",
       "      <td>288.259935</td>\n",
       "      <td>2844.939397</td>\n",
       "      <td>3.719576e+05</td>\n",
       "      <td>584.717526</td>\n",
       "      <td>28.891450</td>\n",
       "      <td>16.836587</td>\n",
       "      <td>8377.500000</td>\n",
       "      <td>80.504634</td>\n",
       "      <td>2.262302</td>\n",
       "    </tr>\n",
       "    <tr>\n",
       "      <th>max</th>\n",
       "      <td>8410.800000</td>\n",
       "      <td>51.373951</td>\n",
       "      <td>1383.380011</td>\n",
       "      <td>8424.312020</td>\n",
       "      <td>3.064936e+07</td>\n",
       "      <td>3343.454250</td>\n",
       "      <td>60.505780</td>\n",
       "      <td>53.749825</td>\n",
       "      <td>58620.000000</td>\n",
       "      <td>239.100000</td>\n",
       "      <td>11.180657</td>\n",
       "    </tr>\n",
       "  </tbody>\n",
       "</table>\n",
       "</div>"
      ],
      "text/plain": [
       "       cereal_yield  fdi_perc_gdp   en_per_gdp   en_per_cap       co2_ttl  \\\n",
       "count   1686.000000   1686.000000  1686.000000  1686.000000  1.686000e+03   \n",
       "mean    3012.242223      2.962712   249.868360  1888.035242  9.868890e+05   \n",
       "std     1795.302456      3.955505   186.963581  1753.121932  3.248056e+06   \n",
       "min      175.700000    -15.027675    66.335372   116.511476  7.077310e+02   \n",
       "25%     1682.654912      0.844214   136.103560   541.279336  1.439114e+04   \n",
       "50%     2585.600000      2.000702   196.899449  1079.441201  7.728386e+04   \n",
       "75%     3930.700000      3.704785   288.259935  2844.939397  3.719576e+05   \n",
       "max     8410.800000     51.373951  1383.380011  8424.312020  3.064936e+07   \n",
       "\n",
       "       co2_per_gdp  pop_urb_aggl_perc  prot_area_perc   gni_per_cap  \\\n",
       "count  1686.000000        1686.000000     1686.000000   1686.000000   \n",
       "mean    481.368038          21.417306       12.288378   7789.250729   \n",
       "std     393.531523          12.134195        9.102084  11575.491209   \n",
       "min      45.552592           3.526316        0.000000     80.000000   \n",
       "25%     255.079674          12.366611        5.919456    772.500000   \n",
       "50%     365.510906          18.440354       10.293806   2105.000000   \n",
       "75%     584.717526          28.891450       16.836587   8377.500000   \n",
       "max    3343.454250          60.505780       53.749825  58620.000000   \n",
       "\n",
       "       under_5_mort_rate  pop_growth_perc  \n",
       "count        1686.000000      1686.000000  \n",
       "mean           52.282221         1.421588  \n",
       "std            51.430521         1.082635  \n",
       "min             3.200000        -2.397174  \n",
       "25%             9.825000         0.619445  \n",
       "50%            32.700000         1.505762  \n",
       "75%            80.504634         2.262302  \n",
       "max           239.100000        11.180657  "
      ]
     },
     "execution_count": 29,
     "metadata": {},
     "output_type": "execute_result"
    }
   ],
   "source": [
    "temp.describe()"
   ]
  },
  {
   "cell_type": "code",
   "execution_count": 27,
   "id": "f32cbc54",
   "metadata": {},
   "outputs": [
    {
     "name": "stdout",
     "output_type": "stream",
     "text": [
      "cereal_yield 2585.6\n",
      "fdi_perc_gdp 2.00070235488363\n",
      "en_per_gdp 196.8994492878095\n",
      "en_per_cap 1079.44120111644\n",
      "co2_ttl 77283.8585\n",
      "co2_per_gdp 365.51090647992754\n",
      "pop_urb_aggl_perc 18.44035428889855\n",
      "prot_area_perc 10.2938055471\n",
      "gni_per_cap 2105.0\n",
      "under_5_mort_rate 32.7\n",
      "pop_growth_perc 1.505762399287525\n"
     ]
    }
   ],
   "source": [
    "for i in temp.columns:\n",
    "    x=temp[i].median()\n",
    "    print(i,x)"
   ]
  },
  {
   "cell_type": "code",
   "execution_count": 28,
   "id": "d1b5551d",
   "metadata": {},
   "outputs": [
    {
     "name": "stdout",
     "output_type": "stream",
     "text": [
      "cereal_yield 3012.242223205532\n",
      "fdi_perc_gdp 2.962712331091012\n",
      "en_per_gdp 249.86835976898666\n",
      "en_per_cap 1888.0352417479714\n",
      "co2_ttl 986889.0263737862\n",
      "co2_per_gdp 481.3680377748692\n",
      "pop_urb_aggl_perc 21.417305824164195\n",
      "prot_area_perc 12.288378046272001\n",
      "gni_per_cap 7789.250728748045\n",
      "under_5_mort_rate 52.28222071987929\n",
      "pop_growth_perc 1.4215877312558043\n"
     ]
    }
   ],
   "source": [
    "for i in temp.columns:\n",
    "    x=temp[i].mean()\n",
    "    print(i,x)"
   ]
  },
  {
   "cell_type": "code",
   "execution_count": 36,
   "id": "1effaac0",
   "metadata": {},
   "outputs": [
    {
     "name": "stdout",
     "output_type": "stream",
     "text": [
      "     cereal_yield  fdi_perc_gdp  en_per_gdp   en_per_cap       co2_ttl  \\\n",
      "25%   1682.654912      0.844214  136.103560   541.279336   14391.14150   \n",
      "50%   2585.600000      2.000702  196.899449  1079.441201   77283.85850   \n",
      "75%   3930.700000      3.704785  288.259935  2844.939397  371957.56125   \n",
      "\n",
      "     co2_per_gdp  pop_urb_aggl_perc  prot_area_perc  gni_per_cap  \\\n",
      "25%   255.079674          12.366611        5.919456        772.5   \n",
      "50%   365.510906          18.440354       10.293806       2105.0   \n",
      "75%   584.717526          28.891450       16.836587       8377.5   \n",
      "\n",
      "     under_5_mort_rate  pop_growth_perc  \n",
      "25%           9.825000         0.619445  \n",
      "50%          32.700000         1.505762  \n",
      "75%          80.504634         2.262302  \n"
     ]
    }
   ],
   "source": [
    "\n",
    "\n",
    "\n",
    "\n",
    "quartiles = data2.describe(percentiles=[0.25, 0.5, 0.75]).loc[['25%', '50%', '75%']]\n",
    "\n",
    "# Print the quartile values\n",
    "print(quartiles)\n"
   ]
  },
  {
   "cell_type": "code",
   "execution_count": null,
   "id": "1183492c",
   "metadata": {},
   "outputs": [],
   "source": []
  },
  {
   "cell_type": "code",
   "execution_count": 264,
   "id": "dcbc7bbe",
   "metadata": {},
   "outputs": [],
   "source": [
    "data2['classify'] = np.where((data2['cereal_yield'] > 1683) &  \n",
    "                             ((data2['fdi_perc_gdp']>1)| (data2['en_per_gdp'] > 136))\n",
    "                             & ((data2['co2_ttl'] >14391)| (data2['co2_per_gdp']>255))\n",
    "                             &  ((data2['prot_area_perc'] > 5 )| (data2['pop_urb_aggl_perc'] > 12))\n",
    "                             & (data2['gni_per_cap'] > 773), 'red', 'green')\n"
   ]
  },
  {
   "cell_type": "code",
   "execution_count": 265,
   "id": "cfee3dfc",
   "metadata": {},
   "outputs": [
    {
     "data": {
      "text/plain": [
       "red      901\n",
       "green    785\n",
       "Name: classify, dtype: int64"
      ]
     },
     "execution_count": 265,
     "metadata": {},
     "output_type": "execute_result"
    }
   ],
   "source": [
    "data2['classify'].value_counts()"
   ]
  },
  {
   "cell_type": "code",
   "execution_count": 266,
   "id": "3182497c",
   "metadata": {},
   "outputs": [],
   "source": [
    "X = data2.iloc[:, :-1].values\n",
    "y = data2.iloc[:, -1].values"
   ]
  },
  {
   "cell_type": "code",
   "execution_count": 267,
   "id": "20445269",
   "metadata": {},
   "outputs": [],
   "source": [
    "from sklearn.model_selection import train_test_split,GridSearchCV, RandomizedSearchCV\n",
    "from sklearn.svm import SVC\n",
    "X_train, X_test, y_train, y_test = train_test_split(X, y, test_size = 0.25, random_state = 0)"
   ]
  },
  {
   "cell_type": "code",
   "execution_count": 268,
   "id": "cb375633",
   "metadata": {},
   "outputs": [
    {
     "name": "stdout",
     "output_type": "stream",
     "text": [
      "[[ 1.92630000e+03  2.74882906e-02  3.08585808e+02 ...  3.50000000e+02\n",
      "   1.11900000e+02  1.98311322e+00]\n",
      " [ 1.80240000e+03  6.61290590e+00  2.73350148e+02 ...  6.10000000e+02\n",
      "   3.53000000e+01 -5.96060461e-01]\n",
      " [ 3.75830000e+03  8.27009654e+00  3.24229392e+02 ...  3.50000000e+02\n",
      "   3.94000000e+01  1.56000983e+00]\n",
      " ...\n",
      " [ 1.80540000e+03  5.68544195e-01  2.31918102e+02 ...  4.10000000e+02\n",
      "   1.22000000e+02  2.75609978e+00]\n",
      " [ 3.57540000e+03 -4.83938586e-01  2.48761954e+02 ...  8.05000000e+03\n",
      "   2.71000000e+01  1.65972268e+00]\n",
      " [ 3.58130000e+03  3.30542818e+00  1.64438202e+02 ...  2.37000000e+03\n",
      "   4.41000000e+01  1.62349996e+00]]\n"
     ]
    }
   ],
   "source": [
    "print(X_test)"
   ]
  },
  {
   "cell_type": "code",
   "execution_count": null,
   "id": "0d319d55",
   "metadata": {},
   "outputs": [],
   "source": []
  },
  {
   "cell_type": "code",
   "execution_count": 271,
   "id": "15700df4",
   "metadata": {},
   "outputs": [],
   "source": [
    "from sklearn.preprocessing import StandardScaler\n",
    "sc = StandardScaler()\n",
    "X_train = sc.fit_transform(X_train)\n",
    "X_test = sc.transform(X_test)"
   ]
  },
  {
   "cell_type": "markdown",
   "id": "ab9ac8f9",
   "metadata": {},
   "source": [
    "# Support Vector Machine and it's differnt kernels"
   ]
  },
  {
   "cell_type": "code",
   "execution_count": 272,
   "id": "e06e860d",
   "metadata": {},
   "outputs": [
    {
     "data": {
      "text/plain": [
       "SVC(kernel='linear', random_state=0)"
      ]
     },
     "execution_count": 272,
     "metadata": {},
     "output_type": "execute_result"
    }
   ],
   "source": [
    "from sklearn.svm import SVC\n",
    "sv = SVC(kernel = 'linear', random_state = 0)\n",
    "sv.fit(X_train, y_train)"
   ]
  },
  {
   "cell_type": "code",
   "execution_count": 273,
   "id": "ed4911c6",
   "metadata": {},
   "outputs": [],
   "source": [
    "y_pred = sv.predict(X_test)"
   ]
  },
  {
   "cell_type": "code",
   "execution_count": 274,
   "id": "ac96e702",
   "metadata": {},
   "outputs": [
    {
     "name": "stdout",
     "output_type": "stream",
     "text": [
      "[[142  48]\n",
      " [ 26 206]]\n"
     ]
    },
    {
     "data": {
      "text/plain": [
       "0.8246445497630331"
      ]
     },
     "execution_count": 274,
     "metadata": {},
     "output_type": "execute_result"
    }
   ],
   "source": [
    "from sklearn.metrics import confusion_matrix, accuracy_score\n",
    "cm = confusion_matrix(y_test, y_pred)\n",
    "print(cm)\n",
    "accuracy_score(y_test, y_pred)"
   ]
  },
  {
   "cell_type": "code",
   "execution_count": 275,
   "id": "1e72567c",
   "metadata": {},
   "outputs": [],
   "source": [
    "data2=data2.reset_index()"
   ]
  },
  {
   "cell_type": "code",
   "execution_count": 276,
   "id": "8ad82ee3",
   "metadata": {},
   "outputs": [],
   "source": [
    "data2=data2.drop(['index'],axis=1)"
   ]
  },
  {
   "cell_type": "code",
   "execution_count": 277,
   "id": "1adc3d57",
   "metadata": {},
   "outputs": [
    {
     "data": {
      "text/html": [
       "<div>\n",
       "<style scoped>\n",
       "    .dataframe tbody tr th:only-of-type {\n",
       "        vertical-align: middle;\n",
       "    }\n",
       "\n",
       "    .dataframe tbody tr th {\n",
       "        vertical-align: top;\n",
       "    }\n",
       "\n",
       "    .dataframe thead th {\n",
       "        text-align: right;\n",
       "    }\n",
       "</style>\n",
       "<table border=\"1\" class=\"dataframe\">\n",
       "  <thead>\n",
       "    <tr style=\"text-align: right;\">\n",
       "      <th></th>\n",
       "      <th>cereal_yield</th>\n",
       "      <th>fdi_perc_gdp</th>\n",
       "      <th>en_per_gdp</th>\n",
       "      <th>en_per_cap</th>\n",
       "      <th>co2_ttl</th>\n",
       "      <th>co2_per_gdp</th>\n",
       "      <th>pop_urb_aggl_perc</th>\n",
       "      <th>prot_area_perc</th>\n",
       "      <th>gni_per_cap</th>\n",
       "      <th>under_5_mort_rate</th>\n",
       "      <th>pop_growth_perc</th>\n",
       "      <th>classify</th>\n",
       "    </tr>\n",
       "  </thead>\n",
       "  <tbody>\n",
       "    <tr>\n",
       "      <th>0</th>\n",
       "      <td>417.4</td>\n",
       "      <td>5.449515</td>\n",
       "      <td>179.271884</td>\n",
       "      <td>565.451027</td>\n",
       "      <td>4367.397</td>\n",
       "      <td>129.971142</td>\n",
       "      <td>15.290728</td>\n",
       "      <td>12.399822</td>\n",
       "      <td>820.0</td>\n",
       "      <td>239.1</td>\n",
       "      <td>3.034866</td>\n",
       "      <td>green</td>\n",
       "    </tr>\n",
       "    <tr>\n",
       "      <th>1</th>\n",
       "      <td>2666.1</td>\n",
       "      <td>1.285579</td>\n",
       "      <td>173.122857</td>\n",
       "      <td>1434.960601</td>\n",
       "      <td>117021.304</td>\n",
       "      <td>426.614517</td>\n",
       "      <td>39.119646</td>\n",
       "      <td>4.772468</td>\n",
       "      <td>3960.0</td>\n",
       "      <td>25.8</td>\n",
       "      <td>1.372593</td>\n",
       "      <td>red</td>\n",
       "    </tr>\n",
       "    <tr>\n",
       "      <th>2</th>\n",
       "      <td>1603.3</td>\n",
       "      <td>1.306912</td>\n",
       "      <td>208.686644</td>\n",
       "      <td>4926.727783</td>\n",
       "      <td>281530.258</td>\n",
       "      <td>689.948873</td>\n",
       "      <td>60.356798</td>\n",
       "      <td>7.915273</td>\n",
       "      <td>18380.0</td>\n",
       "      <td>8.6</td>\n",
       "      <td>1.274577</td>\n",
       "      <td>green</td>\n",
       "    </tr>\n",
       "    <tr>\n",
       "      <th>3</th>\n",
       "      <td>5463.0</td>\n",
       "      <td>0.209142</td>\n",
       "      <td>128.939160</td>\n",
       "      <td>3381.073790</td>\n",
       "      <td>65888.656</td>\n",
       "      <td>322.186648</td>\n",
       "      <td>19.746121</td>\n",
       "      <td>20.991143</td>\n",
       "      <td>21200.0</td>\n",
       "      <td>8.9</td>\n",
       "      <td>1.134999</td>\n",
       "      <td>green</td>\n",
       "    </tr>\n",
       "    <tr>\n",
       "      <th>4</th>\n",
       "      <td>2585.7</td>\n",
       "      <td>0.004491</td>\n",
       "      <td>154.496130</td>\n",
       "      <td>116.511476</td>\n",
       "      <td>15940.449</td>\n",
       "      <td>196.135682</td>\n",
       "      <td>9.443704</td>\n",
       "      <td>1.537922</td>\n",
       "      <td>300.0</td>\n",
       "      <td>137.9</td>\n",
       "      <td>2.359199</td>\n",
       "      <td>green</td>\n",
       "    </tr>\n",
       "  </tbody>\n",
       "</table>\n",
       "</div>"
      ],
      "text/plain": [
       "   cereal_yield  fdi_perc_gdp  en_per_gdp   en_per_cap     co2_ttl  \\\n",
       "0         417.4      5.449515  179.271884   565.451027    4367.397   \n",
       "1        2666.1      1.285579  173.122857  1434.960601  117021.304   \n",
       "2        1603.3      1.306912  208.686644  4926.727783  281530.258   \n",
       "3        5463.0      0.209142  128.939160  3381.073790   65888.656   \n",
       "4        2585.7      0.004491  154.496130   116.511476   15940.449   \n",
       "\n",
       "   co2_per_gdp  pop_urb_aggl_perc  prot_area_perc  gni_per_cap  \\\n",
       "0   129.971142          15.290728       12.399822        820.0   \n",
       "1   426.614517          39.119646        4.772468       3960.0   \n",
       "2   689.948873          60.356798        7.915273      18380.0   \n",
       "3   322.186648          19.746121       20.991143      21200.0   \n",
       "4   196.135682           9.443704        1.537922        300.0   \n",
       "\n",
       "   under_5_mort_rate  pop_growth_perc classify  \n",
       "0              239.1         3.034866    green  \n",
       "1               25.8         1.372593      red  \n",
       "2                8.6         1.274577    green  \n",
       "3                8.9         1.134999    green  \n",
       "4              137.9         2.359199    green  "
      ]
     },
     "execution_count": 277,
     "metadata": {},
     "output_type": "execute_result"
    }
   ],
   "source": [
    "data2.head()"
   ]
  },
  {
   "cell_type": "code",
   "execution_count": 278,
   "id": "5ca90a37",
   "metadata": {},
   "outputs": [
    {
     "data": {
      "text/plain": [
       "array([5463.0, 0.209141663473539, 128.939159582508, 3381.07379003113,\n",
       "       65888.656, 322.186648315368, 19.746120574199, 20.991142712,\n",
       "       21200.0, 8.9, 1.1349991250421, 'green'], dtype=object)"
      ]
     },
     "execution_count": 278,
     "metadata": {},
     "output_type": "execute_result"
    }
   ],
   "source": [
    "data2.loc[3].values"
   ]
  },
  {
   "cell_type": "code",
   "execution_count": 78,
   "id": "bb86e727",
   "metadata": {},
   "outputs": [
    {
     "data": {
      "text/plain": [
       "array([[0., 0., 0., 0., 0., 0., 0., 0., 0., 0., 0.]])"
      ]
     },
     "execution_count": 78,
     "metadata": {},
     "output_type": "execute_result"
    }
   ],
   "source": [
    "sc.fit_transform([[417.4, 5.44951457868676, 179.271884079676, 565.451027196188,\n",
    "       4367.397, 129.971142081192, 15.2907279897761, 12.3998220487, 820.0,\n",
    "       239.1, 3.03486600826632]])"
   ]
  },
  {
   "cell_type": "code",
   "execution_count": 84,
   "id": "876509f2",
   "metadata": {},
   "outputs": [
    {
     "data": {
      "text/plain": [
       "array(['red'], dtype=object)"
      ]
     },
     "execution_count": 84,
     "metadata": {},
     "output_type": "execute_result"
    }
   ],
   "source": [
    "dt.predict([[5463.0, 0.209141663473539, 128.939159582508, 3381.07379003113,\n",
    "       65888.656, 322.186648315368, 19.746120574199, 20.991142712,\n",
    "       21200.0, 8.9, 1.1349991250421]])"
   ]
  },
  {
   "cell_type": "code",
   "execution_count": 56,
   "id": "9cd2178e",
   "metadata": {},
   "outputs": [
    {
     "name": "stdout",
     "output_type": "stream",
     "text": [
      "Cross-validation scores: [0.97337278 0.99109792 0.9851632  0.98813056 0.97329377]\n",
      "Mean cross-validation score: 0.9822116482011483\n",
      "Standard deviation of cross-validation score: 0.00748819437243729\n",
      "Training accuracy: 1.0\n"
     ]
    }
   ],
   "source": [
    "from sklearn.model_selection import cross_val_score\n",
    "from sklearn.tree import DecisionTreeClassifier\n",
    "\n",
    "\n",
    "\n",
    "# create a decision tree classifier with default parameters\n",
    "clf = DecisionTreeClassifier()\n",
    "\n",
    "# calculate cross-validation scores with 5 folds\n",
    "cv_scores = cross_val_score(clf, X, y, cv=5)\n",
    "\n",
    "# calculate the mean and standard deviation of the scores\n",
    "mean_cv_score = cv_scores.mean()\n",
    "std_cv_score = cv_scores.std()\n",
    "\n",
    "# print the results\n",
    "print(\"Cross-validation scores:\", cv_scores)\n",
    "print(\"Mean cross-validation score:\", mean_cv_score)\n",
    "print(\"Standard deviation of cross-validation score:\", std_cv_score)\n",
    "\n",
    "# fit the model to the entire data and calculate accuracy\n",
    "clf.fit(X, y)\n",
    "train_acc = clf.score(X, y)\n",
    "\n",
    "# print the results\n",
    "print(\"Training accuracy:\", train_acc)\n"
   ]
  },
  {
   "cell_type": "code",
   "execution_count": 58,
   "id": "67da0cc2",
   "metadata": {},
   "outputs": [
    {
     "name": "stdout",
     "output_type": "stream",
     "text": [
      "Training accuracy: 1.0\n",
      "Validation accuracy: 0.9852216748768473\n",
      "Test accuracy: 0.9881516587677726\n"
     ]
    }
   ],
   "source": [
    "\n",
    "\n",
    "\n",
    "# split the training set into training and validation sets\n",
    "X_train, X_val, y_train, y_val = train_test_split(X_train, y_train, test_size=0.2, random_state=42)\n",
    "\n",
    "# create a decision tree classifier with default parameters\n",
    "clf1 = DecisionTreeClassifier()\n",
    "\n",
    "# train the model on the training set\n",
    "clf1.fit(X_train, y_train)\n",
    "\n",
    "# calculate the accuracy on the training set\n",
    "train_acc = clf1.score(X_train, y_train)\n",
    "\n",
    "# calculate the accuracy on the validation set\n",
    "val_acc = clf1.score(X_val, y_val)\n",
    "\n",
    "# calculate the accuracy on the test set\n",
    "test_acc = clf1.score(X_test, y_test)\n",
    "\n",
    "# print the results\n",
    "print(\"Training accuracy:\", train_acc)\n",
    "print(\"Validation accuracy:\", val_acc)\n",
    "print(\"Test accuracy:\", test_acc)\n"
   ]
  },
  {
   "cell_type": "code",
   "execution_count": 114,
   "id": "657c7c56",
   "metadata": {},
   "outputs": [
    {
     "data": {
      "image/png": "[encoded data removed]",
      "text/plain": [
       "<Figure size 640x480 with 1 Axes>"
      ]
     },
     "metadata": {},
     "output_type": "display_data"
    }
   ],
   "source": [
    "from sklearn.model_selection import learning_curve\n",
    "from sklearn.tree import DecisionTreeClassifier\n",
    "import matplotlib.pyplot as plt\n",
    "\n",
    "# load data and split into features and target\n",
    "\n",
    "\n",
    "# create a decision tree classifier with default parameters\n",
    "clf2 = DecisionTreeClassifier()\n",
    "\n",
    "# calculate the learning curves\n",
    "train_sizes, train_scores, test_scores = learning_curve(\n",
    "    dt, X_train, y_train, cv=5, train_sizes=np.linspace(0.1, 1.0, 10), scoring='accuracy')\n",
    "\n",
    "# calculate the mean and standard deviation of the training and test scores\n",
    "train_mean = np.mean(train_scores, axis=1)\n",
    "train_std = np.std(train_scores, axis=1)\n",
    "test_mean = np.mean(test_scores, axis=1)\n",
    "test_std = np.std(test_scores, axis=1)\n",
    "\n",
    "# plot the learning curves\n",
    "plt.plot(train_sizes, train_mean, label='Training score')\n",
    "plt.fill_between(train_sizes, train_mean - train_std, train_mean + train_std, alpha=0.2)\n",
    "plt.plot(train_sizes, test_mean, label='Cross-validation score')\n",
    "plt.fill_between(train_sizes, test_mean - test_std, test_mean + test_std, alpha=0.2)\n",
    "plt.xlabel('Number of training samples')\n",
    "plt.ylabel('Accuracy')\n",
    "plt.legend(loc='best')\n",
    "plt.show()\n"
   ]
  },
  {
   "cell_type": "code",
   "execution_count": 279,
   "id": "3ec97b73",
   "metadata": {},
   "outputs": [
    {
     "name": "stdout",
     "output_type": "stream",
     "text": [
      "Accuracy:  0.990521327014218\n"
     ]
    }
   ],
   "source": [
    "from sklearn.tree import DecisionTreeClassifier\n",
    "dt3 = DecisionTreeClassifier(criterion='entropy',max_depth=None,min_samples_leaf=1,min_samples_split=2)\n",
    "dt3.fit(X_train, y_train)\n",
    "y_pred = dt.predict(X_test)\n",
    "\n",
    "accuracy = accuracy_score(y_test, y_pred)\n",
    "print(\"Accuracy: \", accuracy)"
   ]
  },
  {
   "cell_type": "code",
   "execution_count": 146,
   "id": "3d8b46e6",
   "metadata": {},
   "outputs": [
    {
     "name": "stdout",
     "output_type": "stream",
     "text": [
      "Best hyperparameters:  {'criterion': 'entropy', 'max_depth': None, 'min_samples_leaf': 1, 'min_samples_split': 2}\n",
      "Accuracy:  0.990521327014218\n"
     ]
    }
   ],
   "source": [
    "param_grid = {\n",
    "    'criterion': ['gini', 'entropy'],\n",
    "    'max_depth': [None, 2, 5, 10],\n",
    "    'min_samples_split': [2, 5, 10],\n",
    "    'min_samples_leaf': [1, 2, 4]\n",
    "}\n",
    "grid_search = GridSearchCV(dt3, param_grid=param_grid, cv=5)\n",
    "grid_search.fit(X_train, y_train)\n",
    "best_clf = grid_search.best_estimator_\n",
    "y_pred1 = dt.predict(X_test)\n",
    "accuracy = accuracy_score(y_test, y_pred1)\n",
    "print(\"Best hyperparameters: \", grid_search.best_params_)\n",
    "print(\"Accuracy: \", accuracy)\n"
   ]
  },
  {
   "cell_type": "code",
   "execution_count": 93,
   "id": "625e2642",
   "metadata": {},
   "outputs": [
    {
     "data": {
      "text/plain": [
       "array([1.60330000e+03, 1.30691206e+00, 2.08686644e+02, 4.92672778e+03,\n",
       "       2.81530258e+05, 6.89948873e+02, 6.03567982e+01, 7.91527300e+00,\n",
       "       1.83800000e+04, 8.60000000e+00, 1.27457750e+00])"
      ]
     },
     "execution_count": 93,
     "metadata": {},
     "output_type": "execute_result"
    }
   ],
   "source": [
    "X[2]"
   ]
  },
  {
   "cell_type": "code",
   "execution_count": 177,
   "id": "b183032d",
   "metadata": {},
   "outputs": [
    {
     "data": {
      "text/plain": [
       "array(['green'], dtype=object)"
      ]
     },
     "execution_count": 177,
     "metadata": {},
     "output_type": "execute_result"
    }
   ],
   "source": [
    "dt3.predict([[ -0.59055785, -0.71397591,  0.31756963, -0.84955249, -0.08673933,\n",
    "        0.5249083 , -0.93282293, -0.7943809 , -0.63482461,  1.15417115,\n",
    "        0.49967811]])"
   ]
  },
  {
   "cell_type": "code",
   "execution_count": 141,
   "id": "b04e258f",
   "metadata": {},
   "outputs": [
    {
     "data": {
      "text/plain": [
       "array([[0., 0., 0., 0., 0., 0., 0., 0., 0., 0., 0.]])"
      ]
     },
     "execution_count": 141,
     "metadata": {},
     "output_type": "execute_result"
    }
   ],
   "source": [
    "sc.inverse_transform([[2.58570000e+03, 4.49146993e-03, 1.54496130e+02, 1.16511476e+02,\n",
    "       1.59404490e+04, 1.96135682e+02, 9.44370432e+00, 1.53792185e+00,\n",
    "       3.00000000e+02, 1.37900000e+02, 2.35919934e+00]])"
   ]
  },
  {
   "cell_type": "code",
   "execution_count": 139,
   "id": "48b36d82",
   "metadata": {},
   "outputs": [
    {
     "data": {
      "text/plain": [
       "array([2.58570000e+03, 4.49146993e-03, 1.54496130e+02, 1.16511476e+02,\n",
       "       1.59404490e+04, 1.96135682e+02, 9.44370432e+00, 1.53792185e+00,\n",
       "       3.00000000e+02, 1.37900000e+02, 2.35919934e+00])"
      ]
     },
     "execution_count": 139,
     "metadata": {},
     "output_type": "execute_result"
    }
   ],
   "source": [
    "X[4]"
   ]
  },
  {
   "cell_type": "code",
   "execution_count": 140,
   "id": "87825998",
   "metadata": {},
   "outputs": [
    {
     "data": {
      "text/plain": [
       "'green'"
      ]
     },
     "execution_count": 140,
     "metadata": {},
     "output_type": "execute_result"
    }
   ],
   "source": [
    "y[4]"
   ]
  },
  {
   "cell_type": "code",
   "execution_count": 176,
   "id": "9fd502b5",
   "metadata": {},
   "outputs": [
    {
     "data": {
      "text/plain": [
       "array([-0.59055785, -0.71397591,  0.31756963, -0.84955249, -0.08673933,\n",
       "        0.5249083 , -0.93282293, -0.7943809 , -0.63482461,  1.15417115,\n",
       "        0.49967811])"
      ]
     },
     "execution_count": 176,
     "metadata": {},
     "output_type": "execute_result"
    }
   ],
   "source": [
    "X_test[0]"
   ]
  },
  {
   "cell_type": "code",
   "execution_count": 175,
   "id": "c98185d6",
   "metadata": {},
   "outputs": [
    {
     "data": {
      "text/plain": [
       "'green'"
      ]
     },
     "execution_count": 175,
     "metadata": {},
     "output_type": "execute_result"
    }
   ],
   "source": [
    "y_test[0]"
   ]
  },
  {
   "cell_type": "code",
   "execution_count": 108,
   "id": "67c205af",
   "metadata": {},
   "outputs": [
    {
     "name": "stdout",
     "output_type": "stream",
     "text": [
      "6\n",
      "8\n",
      "10\n",
      "16\n",
      "17\n",
      "18\n",
      "19\n",
      "20\n",
      "21\n",
      "23\n",
      "27\n",
      "28\n",
      "30\n",
      "32\n",
      "33\n",
      "34\n",
      "35\n",
      "39\n",
      "40\n",
      "46\n",
      "51\n",
      "52\n",
      "54\n",
      "55\n",
      "57\n",
      "58\n",
      "59\n",
      "62\n",
      "63\n",
      "64\n",
      "66\n",
      "67\n",
      "69\n",
      "70\n",
      "72\n",
      "73\n",
      "74\n",
      "76\n",
      "79\n",
      "80\n",
      "82\n",
      "85\n",
      "86\n",
      "88\n",
      "90\n",
      "91\n",
      "93\n",
      "94\n",
      "96\n",
      "100\n",
      "101\n",
      "102\n",
      "103\n",
      "105\n",
      "108\n",
      "110\n",
      "112\n",
      "114\n",
      "116\n",
      "119\n",
      "121\n",
      "122\n",
      "124\n",
      "125\n",
      "127\n",
      "130\n",
      "131\n",
      "132\n",
      "134\n",
      "135\n",
      "137\n",
      "139\n",
      "143\n",
      "146\n",
      "147\n",
      "149\n",
      "150\n",
      "152\n",
      "153\n",
      "154\n",
      "156\n",
      "158\n",
      "163\n",
      "164\n",
      "172\n",
      "174\n",
      "175\n",
      "178\n",
      "179\n",
      "184\n",
      "188\n",
      "189\n",
      "190\n",
      "192\n",
      "193\n",
      "194\n",
      "195\n",
      "196\n",
      "197\n",
      "198\n",
      "199\n",
      "203\n",
      "204\n",
      "205\n",
      "206\n",
      "207\n",
      "208\n",
      "209\n",
      "210\n",
      "211\n",
      "212\n",
      "213\n",
      "214\n",
      "216\n",
      "217\n",
      "218\n",
      "219\n",
      "222\n",
      "225\n",
      "226\n",
      "228\n",
      "231\n",
      "234\n",
      "235\n",
      "236\n",
      "237\n",
      "238\n",
      "240\n",
      "241\n",
      "242\n",
      "243\n",
      "244\n",
      "246\n",
      "247\n",
      "252\n",
      "254\n",
      "255\n",
      "256\n",
      "257\n",
      "262\n",
      "263\n",
      "265\n",
      "266\n",
      "267\n",
      "268\n",
      "271\n",
      "272\n",
      "276\n",
      "278\n",
      "279\n",
      "280\n",
      "282\n",
      "288\n",
      "290\n",
      "291\n",
      "292\n",
      "293\n",
      "295\n",
      "296\n",
      "297\n",
      "298\n",
      "300\n",
      "301\n",
      "302\n",
      "304\n",
      "305\n",
      "307\n",
      "309\n",
      "311\n",
      "312\n",
      "313\n",
      "314\n",
      "315\n",
      "318\n",
      "320\n",
      "322\n",
      "325\n",
      "326\n",
      "327\n",
      "329\n",
      "331\n",
      "335\n",
      "337\n",
      "338\n",
      "339\n",
      "340\n",
      "344\n",
      "345\n",
      "349\n",
      "350\n",
      "352\n",
      "353\n",
      "354\n",
      "356\n",
      "357\n",
      "358\n",
      "360\n",
      "364\n",
      "366\n",
      "369\n",
      "370\n",
      "372\n",
      "373\n",
      "374\n",
      "375\n",
      "376\n",
      "377\n",
      "381\n",
      "383\n",
      "388\n",
      "389\n",
      "392\n",
      "393\n",
      "394\n",
      "396\n",
      "397\n",
      "398\n",
      "399\n",
      "401\n",
      "402\n",
      "403\n",
      "404\n",
      "405\n",
      "406\n",
      "407\n",
      "409\n",
      "411\n",
      "412\n",
      "413\n",
      "415\n",
      "420\n",
      "421\n"
     ]
    }
   ],
   "source": [
    "for i in range(0,len(y_test)):\n",
    "    if y_test[i]==\"red\":\n",
    "        print(i)"
   ]
  },
  {
   "cell_type": "code",
   "execution_count": 144,
   "id": "55990e05",
   "metadata": {},
   "outputs": [],
   "source": [
    "import joblib"
   ]
  },
  {
   "cell_type": "code",
   "execution_count": 149,
   "id": "4ba2cbd7",
   "metadata": {},
   "outputs": [
    {
     "data": {
      "text/plain": [
       "['DecisionTreeClassifier.pkl']"
      ]
     },
     "execution_count": 149,
     "metadata": {},
     "output_type": "execute_result"
    }
   ],
   "source": [
    "joblib.dump(dt3,'DecisionTreeClassifier.pkl')"
   ]
  },
  {
   "cell_type": "code",
   "execution_count": 150,
   "id": "bdc73236",
   "metadata": {},
   "outputs": [
    {
     "data": {
      "text/plain": [
       "array(['green', 'green', 'green', 'green', 'green', 'green', 'red',\n",
       "       'green', 'red', 'green', 'red', 'green', 'green', 'green', 'green',\n",
       "       'green', 'red', 'red', 'red', 'red', 'red', 'red', 'green', 'red',\n",
       "       'green', 'green', 'green', 'red', 'red', 'green', 'red', 'green',\n",
       "       'red', 'red', 'red', 'red', 'green', 'green', 'green', 'red',\n",
       "       'red', 'green', 'green', 'green', 'green', 'green', 'red', 'green',\n",
       "       'green', 'green', 'green', 'red', 'red', 'green', 'red', 'red',\n",
       "       'green', 'red', 'red', 'red', 'green', 'green', 'red', 'red',\n",
       "       'red', 'green', 'red', 'red', 'green', 'red', 'red', 'green',\n",
       "       'red', 'red', 'red', 'green', 'red', 'green', 'green', 'red',\n",
       "       'red', 'green', 'red', 'green', 'green', 'red', 'red', 'green',\n",
       "       'red', 'green', 'red', 'red', 'green', 'red', 'red', 'green',\n",
       "       'red', 'green', 'green', 'green'], dtype=object)"
      ]
     },
     "execution_count": 150,
     "metadata": {},
     "output_type": "execute_result"
    }
   ],
   "source": [
    "y_test[:100]"
   ]
  },
  {
   "cell_type": "code",
   "execution_count": 158,
   "id": "aab05f7b",
   "metadata": {},
   "outputs": [
    {
     "data": {
      "text/plain": [
       "array([[-0.56235239, -0.48126889,  0.3583605 , ..., -0.62230216,\n",
       "         1.13775563,  0.49924695],\n",
       "       [-0.62799326,  0.74844717,  0.17097291, ..., -0.60028519,\n",
       "        -0.34524343, -2.13221285],\n",
       "       [ 0.4082212 ,  1.05789968,  0.441555  , ..., -0.62230216,\n",
       "        -0.26586619,  0.06756623],\n",
       "       ...,\n",
       "       [-0.94648087,  0.1255602 ,  0.39071227, ..., -0.56850002,\n",
       "         1.51454362,  1.01517953],\n",
       "       [-0.55747833, -0.51997072,  5.51491653, ..., -0.60282561,\n",
       "         0.32075093,  0.31943892],\n",
       "       [-0.64558226,  0.50851252,  1.19590797, ..., -0.62822981,\n",
       "         1.60433888,  0.99192269]])"
      ]
     },
     "execution_count": 158,
     "metadata": {},
     "output_type": "execute_result"
    }
   ],
   "source": [
    "sc.inverse_transform(X_test[:100])"
   ]
  },
  {
   "cell_type": "code",
   "execution_count": 178,
   "id": "c7bd8239",
   "metadata": {},
   "outputs": [
    {
     "data": {
      "text/plain": [
       "array([-0.59055785, -0.71397591,  0.31756963, -0.84955249, -0.08673933,\n",
       "        0.5249083 , -0.93282293, -0.7943809 , -0.63482461,  1.15417115,\n",
       "        0.49967811])"
      ]
     },
     "execution_count": 178,
     "metadata": {},
     "output_type": "execute_result"
    }
   ],
   "source": [
    "X_test[0]"
   ]
  },
  {
   "cell_type": "code",
   "execution_count": 179,
   "id": "fa70c8c3",
   "metadata": {},
   "outputs": [],
   "source": [
    "x=sc.inverse_transform([X_test[0]])"
   ]
  },
  {
   "cell_type": "code",
   "execution_count": 180,
   "id": "101a8312",
   "metadata": {
    "scrolled": true
   },
   "outputs": [
    {
     "name": "stdout",
     "output_type": "stream",
     "text": [
      "[1.92630000e+03 2.74882906e-02 3.08585808e+02 3.80237682e+02\n",
      " 7.37851738e+05 6.91044949e+02 1.01853643e+01 5.02332899e+00\n",
      " 3.50000000e+02 1.11900000e+02 1.98311322e+00]\n"
     ]
    }
   ],
   "source": [
    "for i in range(0,len(x)):\n",
    "    print(x[i])"
   ]
  },
  {
   "cell_type": "code",
   "execution_count": 245,
   "id": "2df71e9a",
   "metadata": {},
   "outputs": [
    {
     "data": {
      "text/html": [
       "<div>\n",
       "<style scoped>\n",
       "    .dataframe tbody tr th:only-of-type {\n",
       "        vertical-align: middle;\n",
       "    }\n",
       "\n",
       "    .dataframe tbody tr th {\n",
       "        vertical-align: top;\n",
       "    }\n",
       "\n",
       "    .dataframe thead th {\n",
       "        text-align: right;\n",
       "    }\n",
       "</style>\n",
       "<table border=\"1\" class=\"dataframe\">\n",
       "  <thead>\n",
       "    <tr style=\"text-align: right;\">\n",
       "      <th></th>\n",
       "      <th>cereal_yield</th>\n",
       "      <th>fdi_perc_gdp</th>\n",
       "      <th>en_per_gdp</th>\n",
       "      <th>en_per_cap</th>\n",
       "      <th>co2_ttl</th>\n",
       "      <th>co2_per_gdp</th>\n",
       "      <th>pop_urb_aggl_perc</th>\n",
       "      <th>prot_area_perc</th>\n",
       "      <th>gni_per_cap</th>\n",
       "      <th>under_5_mort_rate</th>\n",
       "      <th>pop_growth_perc</th>\n",
       "      <th>classify</th>\n",
       "    </tr>\n",
       "  </thead>\n",
       "  <tbody>\n",
       "    <tr>\n",
       "      <th>0</th>\n",
       "      <td>417.4</td>\n",
       "      <td>5.449515</td>\n",
       "      <td>179.271884</td>\n",
       "      <td>565.451027</td>\n",
       "      <td>4367.397</td>\n",
       "      <td>129.971142</td>\n",
       "      <td>15.290728</td>\n",
       "      <td>12.399822</td>\n",
       "      <td>820.0</td>\n",
       "      <td>239.1</td>\n",
       "      <td>3.034866</td>\n",
       "      <td>green</td>\n",
       "    </tr>\n",
       "    <tr>\n",
       "      <th>1</th>\n",
       "      <td>2666.1</td>\n",
       "      <td>1.285579</td>\n",
       "      <td>173.122857</td>\n",
       "      <td>1434.960601</td>\n",
       "      <td>117021.304</td>\n",
       "      <td>426.614517</td>\n",
       "      <td>39.119646</td>\n",
       "      <td>4.772468</td>\n",
       "      <td>3960.0</td>\n",
       "      <td>25.8</td>\n",
       "      <td>1.372593</td>\n",
       "      <td>red</td>\n",
       "    </tr>\n",
       "    <tr>\n",
       "      <th>2</th>\n",
       "      <td>1603.3</td>\n",
       "      <td>1.306912</td>\n",
       "      <td>208.686644</td>\n",
       "      <td>4926.727783</td>\n",
       "      <td>281530.258</td>\n",
       "      <td>689.948873</td>\n",
       "      <td>60.356798</td>\n",
       "      <td>7.915273</td>\n",
       "      <td>18380.0</td>\n",
       "      <td>8.6</td>\n",
       "      <td>1.274577</td>\n",
       "      <td>green</td>\n",
       "    </tr>\n",
       "    <tr>\n",
       "      <th>3</th>\n",
       "      <td>5463.0</td>\n",
       "      <td>0.209142</td>\n",
       "      <td>128.939160</td>\n",
       "      <td>3381.073790</td>\n",
       "      <td>65888.656</td>\n",
       "      <td>322.186648</td>\n",
       "      <td>19.746121</td>\n",
       "      <td>20.991143</td>\n",
       "      <td>21200.0</td>\n",
       "      <td>8.9</td>\n",
       "      <td>1.134999</td>\n",
       "      <td>green</td>\n",
       "    </tr>\n",
       "    <tr>\n",
       "      <th>4</th>\n",
       "      <td>2585.7</td>\n",
       "      <td>0.004491</td>\n",
       "      <td>154.496130</td>\n",
       "      <td>116.511476</td>\n",
       "      <td>15940.449</td>\n",
       "      <td>196.135682</td>\n",
       "      <td>9.443704</td>\n",
       "      <td>1.537922</td>\n",
       "      <td>300.0</td>\n",
       "      <td>137.9</td>\n",
       "      <td>2.359199</td>\n",
       "      <td>green</td>\n",
       "    </tr>\n",
       "  </tbody>\n",
       "</table>\n",
       "</div>"
      ],
      "text/plain": [
       "   cereal_yield  fdi_perc_gdp  en_per_gdp   en_per_cap     co2_ttl  \\\n",
       "0         417.4      5.449515  179.271884   565.451027    4367.397   \n",
       "1        2666.1      1.285579  173.122857  1434.960601  117021.304   \n",
       "2        1603.3      1.306912  208.686644  4926.727783  281530.258   \n",
       "3        5463.0      0.209142  128.939160  3381.073790   65888.656   \n",
       "4        2585.7      0.004491  154.496130   116.511476   15940.449   \n",
       "\n",
       "   co2_per_gdp  pop_urb_aggl_perc  prot_area_perc  gni_per_cap  \\\n",
       "0   129.971142          15.290728       12.399822        820.0   \n",
       "1   426.614517          39.119646        4.772468       3960.0   \n",
       "2   689.948873          60.356798        7.915273      18380.0   \n",
       "3   322.186648          19.746121       20.991143      21200.0   \n",
       "4   196.135682           9.443704        1.537922        300.0   \n",
       "\n",
       "   under_5_mort_rate  pop_growth_perc classify  \n",
       "0              239.1         3.034866    green  \n",
       "1               25.8         1.372593      red  \n",
       "2                8.6         1.274577    green  \n",
       "3                8.9         1.134999    green  \n",
       "4              137.9         2.359199    green  "
      ]
     },
     "execution_count": 245,
     "metadata": {},
     "output_type": "execute_result"
    }
   ],
   "source": [
    "data2.head()"
   ]
  },
  {
   "cell_type": "code",
   "execution_count": 247,
   "id": "37f453c1",
   "metadata": {},
   "outputs": [
    {
     "data": {
      "text/plain": [
       "array([2666.1, 1.28557881763899, 173.122857268895, 1434.96060066516,\n",
       "       117021.304, 426.614517117445, 39.119646140419, 4.77246763254,\n",
       "       3960.0, 25.8, 1.37259321757337], dtype=object)"
      ]
     },
     "execution_count": 247,
     "metadata": {},
     "output_type": "execute_result"
    }
   ],
   "source": [
    "data2.iloc[1,:-1].values"
   ]
  },
  {
   "cell_type": "code",
   "execution_count": 217,
   "id": "583f09c4",
   "metadata": {},
   "outputs": [
    {
     "data": {
      "text/plain": [
       "'green'"
      ]
     },
     "execution_count": 217,
     "metadata": {},
     "output_type": "execute_result"
    }
   ],
   "source": [
    "y_test[7]"
   ]
  },
  {
   "cell_type": "code",
   "execution_count": 218,
   "id": "38b2c9a2",
   "metadata": {},
   "outputs": [
    {
     "data": {
      "text/plain": [
       "array([-0.20736049,  0.45052223,  0.09522309, -0.02957424, -0.27514019,\n",
       "        0.4989964 , -1.04884779, -0.83733116, -0.53284887, -0.45581742,\n",
       "       -1.5446922 ])"
      ]
     },
     "execution_count": 218,
     "metadata": {},
     "output_type": "execute_result"
    }
   ],
   "source": [
    "X_test[7]"
   ]
  },
  {
   "cell_type": "code",
   "execution_count": 220,
   "id": "11b295cc",
   "metadata": {},
   "outputs": [],
   "source": [
    "x1=sc.inverse_transform([X_test[7]])"
   ]
  },
  {
   "cell_type": "code",
   "execution_count": 221,
   "id": "653587bf",
   "metadata": {},
   "outputs": [],
   "source": [
    "y=sc.fit_transform(x1)"
   ]
  },
  {
   "cell_type": "code",
   "execution_count": 222,
   "id": "ed48f77f",
   "metadata": {},
   "outputs": [
    {
     "name": "stdout",
     "output_type": "stream",
     "text": [
      "[[0. 0. 0. 0. 0. 0. 0. 0. 0. 0. 0.]]\n"
     ]
    }
   ],
   "source": [
    "print(y)"
   ]
  },
  {
   "cell_type": "code",
   "execution_count": 287,
   "id": "417a9454",
   "metadata": {},
   "outputs": [
    {
     "data": {
      "text/plain": [
       "array([-0.65898003,  0.88534893,  0.12970146, -0.72930498, -0.30503333,\n",
       "       -0.06550882,  1.21715607, -0.58046771, -0.61216334, -0.33346605,\n",
       "       -1.88674519])"
      ]
     },
     "execution_count": 287,
     "metadata": {},
     "output_type": "execute_result"
    }
   ],
   "source": [
    "X_test[1]"
   ]
  },
  {
   "cell_type": "code",
   "execution_count": 281,
   "id": "39857125",
   "metadata": {},
   "outputs": [
    {
     "data": {
      "text/plain": [
       "'green'"
      ]
     },
     "execution_count": 281,
     "metadata": {},
     "output_type": "execute_result"
    }
   ],
   "source": [
    "y_test[0]"
   ]
  },
  {
   "cell_type": "code",
   "execution_count": 284,
   "id": "893b38b4",
   "metadata": {},
   "outputs": [],
   "source": [
    "import joblib"
   ]
  },
  {
   "cell_type": "code",
   "execution_count": 286,
   "id": "42f5343d",
   "metadata": {},
   "outputs": [
    {
     "data": {
      "text/plain": [
       "['scaler.joblib']"
      ]
     },
     "execution_count": 286,
     "metadata": {},
     "output_type": "execute_result"
    }
   ],
   "source": [
    "joblib.dump(sc,'scaler.joblib')"
   ]
  },
  {
   "cell_type": "code",
   "execution_count": 291,
   "id": "5fb5adff",
   "metadata": {},
   "outputs": [
    {
     "data": {
      "text/html": [
       "<div>\n",
       "<style scoped>\n",
       "    .dataframe tbody tr th:only-of-type {\n",
       "        vertical-align: middle;\n",
       "    }\n",
       "\n",
       "    .dataframe tbody tr th {\n",
       "        vertical-align: top;\n",
       "    }\n",
       "\n",
       "    .dataframe thead th {\n",
       "        text-align: right;\n",
       "    }\n",
       "</style>\n",
       "<table border=\"1\" class=\"dataframe\">\n",
       "  <thead>\n",
       "    <tr style=\"text-align: right;\">\n",
       "      <th></th>\n",
       "      <th>cereal_yield</th>\n",
       "      <th>fdi_perc_gdp</th>\n",
       "      <th>en_per_gdp</th>\n",
       "      <th>en_per_cap</th>\n",
       "      <th>co2_ttl</th>\n",
       "      <th>co2_per_gdp</th>\n",
       "      <th>pop_urb_aggl_perc</th>\n",
       "      <th>prot_area_perc</th>\n",
       "      <th>gni_per_cap</th>\n",
       "      <th>under_5_mort_rate</th>\n",
       "      <th>pop_growth_perc</th>\n",
       "      <th>classify</th>\n",
       "    </tr>\n",
       "  </thead>\n",
       "  <tbody>\n",
       "    <tr>\n",
       "      <th>0</th>\n",
       "      <td>417.4</td>\n",
       "      <td>5.449515</td>\n",
       "      <td>179.271884</td>\n",
       "      <td>565.451027</td>\n",
       "      <td>4367.397</td>\n",
       "      <td>129.971142</td>\n",
       "      <td>15.290728</td>\n",
       "      <td>12.399822</td>\n",
       "      <td>820.0</td>\n",
       "      <td>239.1</td>\n",
       "      <td>3.034866</td>\n",
       "      <td>green</td>\n",
       "    </tr>\n",
       "    <tr>\n",
       "      <th>1</th>\n",
       "      <td>2666.1</td>\n",
       "      <td>1.285579</td>\n",
       "      <td>173.122857</td>\n",
       "      <td>1434.960601</td>\n",
       "      <td>117021.304</td>\n",
       "      <td>426.614517</td>\n",
       "      <td>39.119646</td>\n",
       "      <td>4.772468</td>\n",
       "      <td>3960.0</td>\n",
       "      <td>25.8</td>\n",
       "      <td>1.372593</td>\n",
       "      <td>red</td>\n",
       "    </tr>\n",
       "    <tr>\n",
       "      <th>2</th>\n",
       "      <td>1603.3</td>\n",
       "      <td>1.306912</td>\n",
       "      <td>208.686644</td>\n",
       "      <td>4926.727783</td>\n",
       "      <td>281530.258</td>\n",
       "      <td>689.948873</td>\n",
       "      <td>60.356798</td>\n",
       "      <td>7.915273</td>\n",
       "      <td>18380.0</td>\n",
       "      <td>8.6</td>\n",
       "      <td>1.274577</td>\n",
       "      <td>green</td>\n",
       "    </tr>\n",
       "    <tr>\n",
       "      <th>3</th>\n",
       "      <td>5463.0</td>\n",
       "      <td>0.209142</td>\n",
       "      <td>128.939160</td>\n",
       "      <td>3381.073790</td>\n",
       "      <td>65888.656</td>\n",
       "      <td>322.186648</td>\n",
       "      <td>19.746121</td>\n",
       "      <td>20.991143</td>\n",
       "      <td>21200.0</td>\n",
       "      <td>8.9</td>\n",
       "      <td>1.134999</td>\n",
       "      <td>green</td>\n",
       "    </tr>\n",
       "    <tr>\n",
       "      <th>4</th>\n",
       "      <td>2585.7</td>\n",
       "      <td>0.004491</td>\n",
       "      <td>154.496130</td>\n",
       "      <td>116.511476</td>\n",
       "      <td>15940.449</td>\n",
       "      <td>196.135682</td>\n",
       "      <td>9.443704</td>\n",
       "      <td>1.537922</td>\n",
       "      <td>300.0</td>\n",
       "      <td>137.9</td>\n",
       "      <td>2.359199</td>\n",
       "      <td>green</td>\n",
       "    </tr>\n",
       "  </tbody>\n",
       "</table>\n",
       "</div>"
      ],
      "text/plain": [
       "   cereal_yield  fdi_perc_gdp  en_per_gdp   en_per_cap     co2_ttl  \\\n",
       "0         417.4      5.449515  179.271884   565.451027    4367.397   \n",
       "1        2666.1      1.285579  173.122857  1434.960601  117021.304   \n",
       "2        1603.3      1.306912  208.686644  4926.727783  281530.258   \n",
       "3        5463.0      0.209142  128.939160  3381.073790   65888.656   \n",
       "4        2585.7      0.004491  154.496130   116.511476   15940.449   \n",
       "\n",
       "   co2_per_gdp  pop_urb_aggl_perc  prot_area_perc  gni_per_cap  \\\n",
       "0   129.971142          15.290728       12.399822        820.0   \n",
       "1   426.614517          39.119646        4.772468       3960.0   \n",
       "2   689.948873          60.356798        7.915273      18380.0   \n",
       "3   322.186648          19.746121       20.991143      21200.0   \n",
       "4   196.135682           9.443704        1.537922        300.0   \n",
       "\n",
       "   under_5_mort_rate  pop_growth_perc classify  \n",
       "0              239.1         3.034866    green  \n",
       "1               25.8         1.372593      red  \n",
       "2                8.6         1.274577    green  \n",
       "3                8.9         1.134999    green  \n",
       "4              137.9         2.359199    green  "
      ]
     },
     "execution_count": 291,
     "metadata": {},
     "output_type": "execute_result"
    }
   ],
   "source": [
    "data2.head()"
   ]
  },
  {
   "cell_type": "code",
   "execution_count": 292,
   "id": "ea32290a",
   "metadata": {},
   "outputs": [],
   "source": [
    "data2.to_csv(\"data2.csv\",index=False)"
   ]
  },
  {
   "cell_type": "code",
   "execution_count": 293,
   "id": "d2a4c82f",
   "metadata": {},
   "outputs": [
    {
     "data": {
      "text/html": [
       "<div>\n",
       "<style scoped>\n",
       "    .dataframe tbody tr th:only-of-type {\n",
       "        vertical-align: middle;\n",
       "    }\n",
       "\n",
       "    .dataframe tbody tr th {\n",
       "        vertical-align: top;\n",
       "    }\n",
       "\n",
       "    .dataframe thead th {\n",
       "        text-align: right;\n",
       "    }\n",
       "</style>\n",
       "<table border=\"1\" class=\"dataframe\">\n",
       "  <thead>\n",
       "    <tr style=\"text-align: right;\">\n",
       "      <th></th>\n",
       "      <th>cereal_yield</th>\n",
       "      <th>fdi_perc_gdp</th>\n",
       "      <th>en_per_gdp</th>\n",
       "      <th>en_per_cap</th>\n",
       "      <th>co2_ttl</th>\n",
       "      <th>co2_per_gdp</th>\n",
       "      <th>pop_urb_aggl_perc</th>\n",
       "      <th>prot_area_perc</th>\n",
       "      <th>gni_per_cap</th>\n",
       "      <th>under_5_mort_rate</th>\n",
       "      <th>pop_growth_perc</th>\n",
       "      <th>classify</th>\n",
       "    </tr>\n",
       "  </thead>\n",
       "  <tbody>\n",
       "    <tr>\n",
       "      <th>0</th>\n",
       "      <td>417.4</td>\n",
       "      <td>5.449515</td>\n",
       "      <td>179.271884</td>\n",
       "      <td>565.451027</td>\n",
       "      <td>4367.397</td>\n",
       "      <td>129.971142</td>\n",
       "      <td>15.290728</td>\n",
       "      <td>12.399822</td>\n",
       "      <td>820.0</td>\n",
       "      <td>239.1</td>\n",
       "      <td>3.034866</td>\n",
       "      <td>green</td>\n",
       "    </tr>\n",
       "    <tr>\n",
       "      <th>1</th>\n",
       "      <td>2666.1</td>\n",
       "      <td>1.285579</td>\n",
       "      <td>173.122857</td>\n",
       "      <td>1434.960601</td>\n",
       "      <td>117021.304</td>\n",
       "      <td>426.614517</td>\n",
       "      <td>39.119646</td>\n",
       "      <td>4.772468</td>\n",
       "      <td>3960.0</td>\n",
       "      <td>25.8</td>\n",
       "      <td>1.372593</td>\n",
       "      <td>red</td>\n",
       "    </tr>\n",
       "    <tr>\n",
       "      <th>2</th>\n",
       "      <td>1603.3</td>\n",
       "      <td>1.306912</td>\n",
       "      <td>208.686644</td>\n",
       "      <td>4926.727783</td>\n",
       "      <td>281530.258</td>\n",
       "      <td>689.948873</td>\n",
       "      <td>60.356798</td>\n",
       "      <td>7.915273</td>\n",
       "      <td>18380.0</td>\n",
       "      <td>8.6</td>\n",
       "      <td>1.274577</td>\n",
       "      <td>green</td>\n",
       "    </tr>\n",
       "    <tr>\n",
       "      <th>3</th>\n",
       "      <td>5463.0</td>\n",
       "      <td>0.209142</td>\n",
       "      <td>128.939160</td>\n",
       "      <td>3381.073790</td>\n",
       "      <td>65888.656</td>\n",
       "      <td>322.186648</td>\n",
       "      <td>19.746121</td>\n",
       "      <td>20.991143</td>\n",
       "      <td>21200.0</td>\n",
       "      <td>8.9</td>\n",
       "      <td>1.134999</td>\n",
       "      <td>green</td>\n",
       "    </tr>\n",
       "    <tr>\n",
       "      <th>4</th>\n",
       "      <td>2585.7</td>\n",
       "      <td>0.004491</td>\n",
       "      <td>154.496130</td>\n",
       "      <td>116.511476</td>\n",
       "      <td>15940.449</td>\n",
       "      <td>196.135682</td>\n",
       "      <td>9.443704</td>\n",
       "      <td>1.537922</td>\n",
       "      <td>300.0</td>\n",
       "      <td>137.9</td>\n",
       "      <td>2.359199</td>\n",
       "      <td>green</td>\n",
       "    </tr>\n",
       "    <tr>\n",
       "      <th>5</th>\n",
       "      <td>3990.0</td>\n",
       "      <td>0.510803</td>\n",
       "      <td>367.387480</td>\n",
       "      <td>2560.054449</td>\n",
       "      <td>59706.094</td>\n",
       "      <td>992.618530</td>\n",
       "      <td>13.789261</td>\n",
       "      <td>2.416870</td>\n",
       "      <td>1620.0</td>\n",
       "      <td>22.3</td>\n",
       "      <td>-0.991363</td>\n",
       "      <td>red</td>\n",
       "    </tr>\n",
       "    <tr>\n",
       "      <th>6</th>\n",
       "      <td>1358.0</td>\n",
       "      <td>0.973189</td>\n",
       "      <td>124.898118</td>\n",
       "      <td>394.957523</td>\n",
       "      <td>5779.192</td>\n",
       "      <td>268.213775</td>\n",
       "      <td>25.655982</td>\n",
       "      <td>8.583622</td>\n",
       "      <td>760.0</td>\n",
       "      <td>116.7</td>\n",
       "      <td>2.306643</td>\n",
       "      <td>green</td>\n",
       "    </tr>\n",
       "    <tr>\n",
       "      <th>7</th>\n",
       "      <td>1850.6</td>\n",
       "      <td>0.270783</td>\n",
       "      <td>131.112804</td>\n",
       "      <td>939.256647</td>\n",
       "      <td>219330.604</td>\n",
       "      <td>201.231977</td>\n",
       "      <td>35.137914</td>\n",
       "      <td>10.994541</td>\n",
       "      <td>2870.0</td>\n",
       "      <td>57.1</td>\n",
       "      <td>1.654581</td>\n",
       "      <td>green</td>\n",
       "    </tr>\n",
       "    <tr>\n",
       "      <th>8</th>\n",
       "      <td>2580.7</td>\n",
       "      <td>0.480500</td>\n",
       "      <td>283.945526</td>\n",
       "      <td>7388.563674</td>\n",
       "      <td>449053.486</td>\n",
       "      <td>612.576462</td>\n",
       "      <td>39.968292</td>\n",
       "      <td>6.016160</td>\n",
       "      <td>20420.0</td>\n",
       "      <td>8.0</td>\n",
       "      <td>1.360506</td>\n",
       "      <td>red</td>\n",
       "    </tr>\n",
       "    <tr>\n",
       "      <th>9</th>\n",
       "      <td>6292.7</td>\n",
       "      <td>1.177912</td>\n",
       "      <td>111.040848</td>\n",
       "      <td>3628.002500</td>\n",
       "      <td>42350.183</td>\n",
       "      <td>190.616973</td>\n",
       "      <td>15.075603</td>\n",
       "      <td>14.860385</td>\n",
       "      <td>34800.0</td>\n",
       "      <td>7.8</td>\n",
       "      <td>1.302564</td>\n",
       "      <td>red</td>\n",
       "    </tr>\n",
       "  </tbody>\n",
       "</table>\n",
       "</div>"
      ],
      "text/plain": [
       "   cereal_yield  fdi_perc_gdp  en_per_gdp   en_per_cap     co2_ttl  \\\n",
       "0         417.4      5.449515  179.271884   565.451027    4367.397   \n",
       "1        2666.1      1.285579  173.122857  1434.960601  117021.304   \n",
       "2        1603.3      1.306912  208.686644  4926.727783  281530.258   \n",
       "3        5463.0      0.209142  128.939160  3381.073790   65888.656   \n",
       "4        2585.7      0.004491  154.496130   116.511476   15940.449   \n",
       "5        3990.0      0.510803  367.387480  2560.054449   59706.094   \n",
       "6        1358.0      0.973189  124.898118   394.957523    5779.192   \n",
       "7        1850.6      0.270783  131.112804   939.256647  219330.604   \n",
       "8        2580.7      0.480500  283.945526  7388.563674  449053.486   \n",
       "9        6292.7      1.177912  111.040848  3628.002500   42350.183   \n",
       "\n",
       "   co2_per_gdp  pop_urb_aggl_perc  prot_area_perc  gni_per_cap  \\\n",
       "0   129.971142          15.290728       12.399822        820.0   \n",
       "1   426.614517          39.119646        4.772468       3960.0   \n",
       "2   689.948873          60.356798        7.915273      18380.0   \n",
       "3   322.186648          19.746121       20.991143      21200.0   \n",
       "4   196.135682           9.443704        1.537922        300.0   \n",
       "5   992.618530          13.789261        2.416870       1620.0   \n",
       "6   268.213775          25.655982        8.583622        760.0   \n",
       "7   201.231977          35.137914       10.994541       2870.0   \n",
       "8   612.576462          39.968292        6.016160      20420.0   \n",
       "9   190.616973          15.075603       14.860385      34800.0   \n",
       "\n",
       "   under_5_mort_rate  pop_growth_perc classify  \n",
       "0              239.1         3.034866    green  \n",
       "1               25.8         1.372593      red  \n",
       "2                8.6         1.274577    green  \n",
       "3                8.9         1.134999    green  \n",
       "4              137.9         2.359199    green  \n",
       "5               22.3        -0.991363      red  \n",
       "6              116.7         2.306643    green  \n",
       "7               57.1         1.654581    green  \n",
       "8                8.0         1.360506      red  \n",
       "9                7.8         1.302564      red  "
      ]
     },
     "execution_count": 293,
     "metadata": {},
     "output_type": "execute_result"
    }
   ],
   "source": [
    "data2.head(10)"
   ]
  },
  {
   "cell_type": "code",
   "execution_count": 294,
   "id": "be167ce0",
   "metadata": {},
   "outputs": [
    {
     "data": {
      "text/plain": [
       "array([6292.7, 1.17791200474775, 111.040847559158, 3628.0025, 42350.183,\n",
       "       190.616973138534, 15.0756029411765, 14.8603846479, 34800.0, 7.8,\n",
       "       1.30256421951548], dtype=object)"
      ]
     },
     "execution_count": 294,
     "metadata": {},
     "output_type": "execute_result"
    }
   ],
   "source": [
    "data2.iloc[9,:-1].values"
   ]
  },
  {
   "cell_type": "code",
   "execution_count": 295,
   "id": "90f5e88b",
   "metadata": {
    "scrolled": true
   },
   "outputs": [
    {
     "name": "stdout",
     "output_type": "stream",
     "text": [
      "[[ 1.82073043 -0.43458569 -0.73569316  1.01826734 -0.2933604  -0.7482878\n",
      "  -0.52799916  0.3088139   2.36779455 -0.86753946 -0.13001116]]\n"
     ]
    }
   ],
   "source": [
    "input_lst= [6292.7, 1.17791200474775, 111.040847559158, 3628.0025, 42350.183,\n",
    "       190.616973138534, 15.0756029411765, 14.8603846479, 34800.0, 7.8,\n",
    "       1.30256421951548]\n",
    "inp_data_norm=sc.transform([input_lst])\n",
    "\n",
    "print(inp_data_norm)"
   ]
  },
  {
   "cell_type": "code",
   "execution_count": 297,
   "id": "f3f12699",
   "metadata": {},
   "outputs": [
    {
     "data": {
      "text/plain": [
       "array(['red'], dtype=object)"
      ]
     },
     "execution_count": 297,
     "metadata": {},
     "output_type": "execute_result"
    }
   ],
   "source": [
    "dt3.predict([[1.82073043, -0.43458569 ,-0.73569316,  1.01826734, -0.2933604,  -0.7482878,\n",
    "  -0.52799916,  0.3088139,   2.36779455, -0.86753946, -0.13001116]])"
   ]
  },
  {
   "cell_type": "code",
   "execution_count": null,
   "id": "efbda334",
   "metadata": {},
   "outputs": [],
   "source": []
  }
 ],
 "metadata": {
  "kernelspec": {
   "display_name": "Python 3 (ipykernel)",
   "language": "python",
   "name": "python3"
  },
  "language_info": {
   "codemirror_mode": {
    "name": "ipython",
    "version": 3
   },
   "file_extension": ".py",
   "mimetype": "text/x-python",
   "name": "python",
   "nbconvert_exporter": "python",
   "pygments_lexer": "ipython3",
   "version": "3.9.13"
  }
 },
 "nbformat": 4,
 "nbformat_minor": 5
}
